{
  "nbformat": 4,
  "nbformat_minor": 5,
  "metadata": {
    "kernelspec": {
      "name": "python3",
      "display_name": "Python 3.8.2 64-bit"
    },
    "language_info": {
      "codemirror_mode": {
        "name": "ipython",
        "version": 3
      },
      "file_extension": ".py",
      "mimetype": "text/x-python",
      "name": "python",
      "nbconvert_exporter": "python",
      "pygments_lexer": "ipython3",
      "version": "3.8.2"
    },
    "interpreter": {
      "hash": "31f2aee4e71d21fbe5cf8b01ff0e069b9275f58929596ceb00d14d90e3e16cd6"
    },
    "colab": {
      "name": "convolution-exercise-solution.ipynb",
      "provenance": [],
      "collapsed_sections": []
    },
    "accelerator": "GPU"
  },
  "cells": [
    {
      "cell_type": "markdown",
      "metadata": {
        "id": "5w1Lla0ebiNr"
      },
      "source": [
        "# Convolution Exercise\n",
        "\n",
        "In this exercise you are requested to write optimized function for convoluting an image using numba cuda jit. <br>\n",
        "\n",
        "To get a basic understanding on how convolution works take a look the the following link: https://setosa.io/ev/image-kernels/ <br>\n",
        "\n",
        "For the perpose of this exercise use the following convolution kernel [[-1, -1, -1], [2, 2, 2], [-1, -1, -1]], also please convert the input image to grayscale.\n",
        "\n",
        "## Objective I\n",
        "Create a CPU function that accepts image, convolution kernel and returns the convolution output, measure its performance.\n",
        "\n",
        "## Objective II\n",
        "Use numba cuda jit compiler to create a cuda kernel that accepts image, convolution kernel and returns convolution output, measure its performance.\n",
        "\n",
        "## Objective III\n",
        "Create pool max cuda kernel and run it after the convolution function.\n",
        "\n",
        "Bonus: tell me what this convolution filter is doing?\n"
      ],
      "id": "5w1Lla0ebiNr"
    }
  ]
}